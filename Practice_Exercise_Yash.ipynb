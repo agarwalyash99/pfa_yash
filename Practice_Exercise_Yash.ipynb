{
 "cells": [
  {
   "cell_type": "code",
   "execution_count": 3,
   "id": "cb793f52",
   "metadata": {},
   "outputs": [
    {
     "name": "stdout",
     "output_type": "stream",
     "text": [
      "17\n"
     ]
    }
   ],
   "source": [
    "#Addition\n",
    "print(7+10)"
   ]
  },
  {
   "cell_type": "code",
   "execution_count": 4,
   "id": "3d14ac6d",
   "metadata": {},
   "outputs": [
    {
     "name": "stdout",
     "output_type": "stream",
     "text": [
      "3\n"
     ]
    }
   ],
   "source": [
    "#Subtraction\n",
    "print(5-2)"
   ]
  },
  {
   "cell_type": "code",
   "execution_count": 5,
   "id": "261f630b",
   "metadata": {},
   "outputs": [
    {
     "name": "stdout",
     "output_type": "stream",
     "text": [
      "5.0\n"
     ]
    }
   ],
   "source": [
    "#Division\n",
    "print(10/2)"
   ]
  },
  {
   "cell_type": "code",
   "execution_count": 6,
   "id": "d77988a4",
   "metadata": {},
   "outputs": [
    {
     "name": "stdout",
     "output_type": "stream",
     "text": [
      "4\n"
     ]
    }
   ],
   "source": [
    "#Remainder\n",
    "print(18%7)"
   ]
  },
  {
   "cell_type": "code",
   "execution_count": 8,
   "id": "86e453ad",
   "metadata": {},
   "outputs": [
    {
     "name": "stdout",
     "output_type": "stream",
     "text": [
      "16\n"
     ]
    }
   ],
   "source": [
    "#Raisetopower\n",
    "print(4**2)"
   ]
  },
  {
   "cell_type": "code",
   "execution_count": 9,
   "id": "f129a229",
   "metadata": {},
   "outputs": [
    {
     "name": "stdout",
     "output_type": "stream",
     "text": [
      "10\n"
     ]
    }
   ],
   "source": [
    "#Multiplication\n",
    "print(5*2)"
   ]
  },
  {
   "cell_type": "code",
   "execution_count": 22,
   "id": "7b5aa182",
   "metadata": {},
   "outputs": [
    {
     "name": "stdout",
     "output_type": "stream",
     "text": [
      "Interest earned=  1750\n",
      "Total amount=  6750\n"
     ]
    }
   ],
   "source": [
    "#JOHN Simple Interest\n",
    "p=5000\n",
    "r=0.07\n",
    "t=5\n",
    "SI=int(p*r*t)\n",
    "TI=int(p+SI)\n",
    "print(\"Interest earned= \",SI)\n",
    "print(\"Total amount= \",TI)"
   ]
  },
  {
   "cell_type": "code",
   "execution_count": 16,
   "id": "3c433e43",
   "metadata": {},
   "outputs": [
    {
     "name": "stdout",
     "output_type": "stream",
     "text": [
      "Time it will take in years=  7\n"
     ]
    }
   ],
   "source": [
    "#Sally Simple Interest\n",
    "p=8000\n",
    "r=0.087\n",
    "SI=4872\n",
    "t=int(SI/(p*r))\n",
    "print(\"Time it will take in years= \",t)"
   ]
  },
  {
   "cell_type": "code",
   "execution_count": 21,
   "id": "22113953",
   "metadata": {},
   "outputs": [
    {
     "name": "stdout",
     "output_type": "stream",
     "text": [
      "Rate of interest is=  6.4\n"
     ]
    }
   ],
   "source": [
    "#Marie Simple Interest\n",
    "p=3000\n",
    "SI=768\n",
    "t=4\n",
    "r=float(SI/(p*t))*100\n",
    "print(\"Rate of interest is= \",r)"
   ]
  },
  {
   "cell_type": "code",
   "execution_count": 23,
   "id": "4ec74eb2",
   "metadata": {},
   "outputs": [
    {
     "name": "stdout",
     "output_type": "stream",
     "text": [
      "Amount after 7 years=  194.87171000000012\n"
     ]
    }
   ],
   "source": [
    "#Time after 7 years\n",
    "print(\"Amount after 7 years= \",(100*(1.1)**7))"
   ]
  },
  {
   "cell_type": "code",
   "execution_count": 24,
   "id": "524c3292",
   "metadata": {},
   "outputs": [],
   "source": [
    "#EXERCISE2"
   ]
  },
  {
   "cell_type": "code",
   "execution_count": 40,
   "id": "5eee4719",
   "metadata": {},
   "outputs": [
    {
     "name": "stdout",
     "output_type": "stream",
     "text": [
      "100\n",
      "194.87171000000012\n",
      "<class 'int'>\n",
      "<class 'float'>\n"
     ]
    }
   ],
   "source": [
    "#Creating a variable savings\n",
    "savings=100\n",
    "print(savings)\n",
    "#Creating variable growth_multiplier\n",
    "growth_multiplier=1.1\n",
    "#Calculating result\n",
    "result=float(savings*growth_multiplier**7)\n",
    "#Printing result\n",
    "print(result)\n",
    "#Checking type of variables\n",
    "print(type(savings))\n",
    "print(type(growth_multiplier))\n"
   ]
  },
  {
   "cell_type": "code",
   "execution_count": 33,
   "id": "15d49be9",
   "metadata": {},
   "outputs": [
    {
     "name": "stdout",
     "output_type": "stream",
     "text": [
      "<class 'bool'>\n",
      "<class 'str'>\n",
      "<class 'float'>\n",
      "<class 'str'>\n",
      "<class 'bool'>\n"
     ]
    }
   ],
   "source": [
    "#Creating a variable desc\n",
    "desc=\"Compound Interest\"\n",
    "#Creating a new variable profitable\n",
    "profitable=bool(True)\n",
    "A=10.7\n",
    "B=\"This is python course\"\n",
    "C=False\n",
    "#Checking type of variable\n",
    "print(type(profitable))\n",
    "print(type(desc))\n",
    "print(type(A))\n",
    "print(type(B))\n",
    "print(type(C))\n"
   ]
  },
  {
   "cell_type": "code",
   "execution_count": 39,
   "id": "37ee5dfb",
   "metadata": {},
   "outputs": [
    {
     "name": "stdout",
     "output_type": "stream",
     "text": [
      "<class 'float'>\n",
      "Compound InterestCompound Interest\n"
     ]
    }
   ],
   "source": [
    "#Assign product of growth_multiplier and savings to year1\n",
    "year1=savings*growth_multiplier\n",
    "#Print the type of year1\n",
    "print(type(year1))\n",
    "#Assign sum of desc and desc to doubledesc\n",
    "doubledesc=desc+desc\n",
    "#Print out doubledesc\n",
    "print(doubledesc)"
   ]
  },
  {
   "cell_type": "code",
   "execution_count": 43,
   "id": "eebe5995",
   "metadata": {},
   "outputs": [
    {
     "name": "stdout",
     "output_type": "stream",
     "text": [
      "I started with $100 and now have $194.87171000000012. Awesome!\n"
     ]
    }
   ],
   "source": [
    "#For changing type of variables\n",
    "savings=str(savings)\n",
    "result=str(result)\n",
    "print(\"I started with $\" + savings + \" and now have $\" + result + \". Awesome!\")"
   ]
  },
  {
   "cell_type": "code",
   "execution_count": 44,
   "id": "bb885c15",
   "metadata": {},
   "outputs": [
    {
     "name": "stdout",
     "output_type": "stream",
     "text": [
      "6.2831852\n"
     ]
    }
   ],
   "source": [
    "# Definition of pi_string\n",
    "pi_string=\"3.1415926\"\n",
    "#Convert pi_string into float: pi_float\n",
    "pi_float=float(pi_string)\n",
    "#Multiply by 2 to save the value in double_pi\n",
    "double_pie=pi_float*2\n",
    "#Printing value of double_pie\n",
    "print(double_pie)"
   ]
  },
  {
   "cell_type": "code",
   "execution_count": 58,
   "id": "0c1174f8",
   "metadata": {},
   "outputs": [],
   "source": [
    "#Which one of these will throw an error? Try in your notebooks\n",
    "#Option C as it will not be able to convert integer to string\n"
   ]
  },
  {
   "cell_type": "code",
   "execution_count": null,
   "id": "6df6445b",
   "metadata": {},
   "outputs": [],
   "source": [
    "#EXERCISE 3"
   ]
  },
  {
   "cell_type": "code",
   "execution_count": 89,
   "id": "dc478a40",
   "metadata": {
    "scrolled": true
   },
   "outputs": [
    {
     "name": "stdout",
     "output_type": "stream",
     "text": [
      "Enter any number:15\n",
      "The no. entered by you  15 is odd\n"
     ]
    }
   ],
   "source": [
    "a=int(input(\"Enter any number:\"))\n",
    "if a%2==0:\n",
    "    print(\"The no. entered by you \",a, \"is even\")\n",
    "else:\n",
    "    print(\"The no. entered by you \",a, \"is odd\")\n"
   ]
  },
  {
   "cell_type": "code",
   "execution_count": 81,
   "id": "98626216",
   "metadata": {},
   "outputs": [
    {
     "name": "stdout",
     "output_type": "stream",
     "text": [
      "Enter temperature in Celsius: 37.5\n",
      "99.5\n"
     ]
    }
   ],
   "source": [
    "#tO convert degree centigrade into Fahrenheit\n",
    "c= float(input('Enter temperature in Celsius: '))\n",
    "#Conversion of celsius to fahrenheit\n",
    "f = (c*1.8)+32\n",
    "print(f)"
   ]
  },
  {
   "cell_type": "code",
   "execution_count": 84,
   "id": "6dab8751",
   "metadata": {},
   "outputs": [
    {
     "name": "stdout",
     "output_type": "stream",
     "text": [
      "Area of traingle is  5.332682251925386\n"
     ]
    }
   ],
   "source": [
    "#Finding area of a triangle whose sides are given\n",
    "a=4\n",
    "b=3\n",
    "c=6\n",
    "s=(a+b+c)/2\n",
    "import math\n",
    "area=math.sqrt(s*(s-a)*(s-b)*(s-c))\n",
    "print(\"Area of traingle is \",area)"
   ]
  },
  {
   "cell_type": "code",
   "execution_count": 88,
   "id": "5f52c5fd",
   "metadata": {},
   "outputs": [
    {
     "name": "stdout",
     "output_type": "stream",
     "text": [
      "Enter radius of circle10\n",
      "Circumference of circle is  62.83185307179586\n",
      "Area of circle is  314.1592653589793\n"
     ]
    }
   ],
   "source": [
    "#TO find area & circumference of circle\n",
    "r=float(input(\"Enter radius of circle\"))\n",
    "c=2*math.pi*r\n",
    "a=math.pi*r**2\n",
    "print(\"Circumference of circle is \",c)\n",
    "print(\"Area of circle is \",a)"
   ]
  },
  {
   "cell_type": "code",
   "execution_count": 92,
   "id": "c1bc1200",
   "metadata": {},
   "outputs": [
    {
     "name": "stdout",
     "output_type": "stream",
     "text": [
      "Enter any number 25\n",
      "The no. entered by you  25 is a multiple of 5\n"
     ]
    }
   ],
   "source": [
    "#To find if given integer is multiple of 5\n",
    "a=int(input(\"Enter any number \"))\n",
    "if a%5==0:\n",
    "    print(\"The no. entered by you \",a,\"is a multiple of 5\")\n",
    "else:\n",
    "    print(\"The no. entered by you \",a,\"is not a multiple of 5\")"
   ]
  },
  {
   "cell_type": "code",
   "execution_count": null,
   "id": "786e7756",
   "metadata": {},
   "outputs": [],
   "source": []
  }
 ],
 "metadata": {
  "kernelspec": {
   "display_name": "Python 3",
   "language": "python",
   "name": "python3"
  },
  "language_info": {
   "codemirror_mode": {
    "name": "ipython",
    "version": 3
   },
   "file_extension": ".py",
   "mimetype": "text/x-python",
   "name": "python",
   "nbconvert_exporter": "python",
   "pygments_lexer": "ipython3",
   "version": "3.8.8"
  }
 },
 "nbformat": 4,
 "nbformat_minor": 5
}
