{
 "cells": [
  {
   "cell_type": "code",
   "execution_count": 1,
   "id": "be1090f9",
   "metadata": {},
   "outputs": [
    {
     "name": "stdout",
     "output_type": "stream",
     "text": [
      "No. is smaller than 10\n",
      "This statement will always be executed\n"
     ]
    }
   ],
   "source": [
    "#Assign a value of 5 to variable num. Use if statement to print “No. is smaller than 10” if it is and always print “This statement will always be executed” after if statement\n",
    "num=5\n",
    "if num<10:\n",
    "    print(\"No. is smaller than 10\")\n",
    "print(\"This statement will always be executed\")"
   ]
  },
  {
   "cell_type": "code",
   "execution_count": 7,
   "id": "e6bfa412",
   "metadata": {},
   "outputs": [
    {
     "name": "stdout",
     "output_type": "stream",
     "text": [
      "Enter the passing score: 75\n",
      "Enter my score: 60\n",
      "You need to work hard\n"
     ]
    }
   ],
   "source": [
    "#Ask the user two inputs, “passing_score” and “my_score”.\n",
    "a=float(input(\"Enter the passing score: \"))\n",
    "b=float(input(\"Enter my score: \"))\n",
    "if b>=a:\n",
    "    print(\"Congratulations you have passed your exam\")\n",
    "else:\n",
    "    print(\"You need to work hard\")"
   ]
  },
  {
   "cell_type": "code",
   "execution_count": 8,
   "id": "f25718f0",
   "metadata": {},
   "outputs": [
    {
     "name": "stdout",
     "output_type": "stream",
     "text": [
      "Enter my score: 75\n",
      "Congratulations you have passed your exam\n"
     ]
    }
   ],
   "source": [
    "# Ask the user one input, “my_score”.\n",
    "a=60\n",
    "b=float(input(\"Enter my score: \"))\n",
    "if b>=a:\n",
    "    print(\"Congratulations you have passed your exam\")\n",
    "else:\n",
    "    print(\"You need to work hard\")"
   ]
  },
  {
   "cell_type": "code",
   "execution_count": 30,
   "id": "8d4f210a",
   "metadata": {},
   "outputs": [
    {
     "name": "stdout",
     "output_type": "stream",
     "text": [
      "Number is positive\n",
      "Number is less than 10\n"
     ]
    }
   ],
   "source": [
    "# Assign a value of 5 to variable “num”. Print if statements to print “number is positive” if “num” is and print “number is less than 10” if it is also there,\n",
    "num=5\n",
    "if num>0:\n",
    "    print(\"Number is positive\")\n",
    "    if num<10:\n",
    "        print(\"Number is less than 10\")"
   ]
  },
  {
   "cell_type": "code",
   "execution_count": 18,
   "id": "2ee54236",
   "metadata": {},
   "outputs": [
    {
     "name": "stdout",
     "output_type": "stream",
     "text": [
      "Enter any no. 1\n",
      "The no is greater than zero\n"
     ]
    }
   ],
   "source": [
    "# Take an input from user for any number in ‘n’. Check in nested if loop\n",
    "n=float(input(\"Enter any no. \"))\n",
    "if n!=0:\n",
    "    if n>0:\n",
    "        print(\"The no is greater than zero\")"
   ]
  },
  {
   "cell_type": "code",
   "execution_count": 20,
   "id": "b0fd0c75",
   "metadata": {},
   "outputs": [
    {
     "name": "stdout",
     "output_type": "stream",
     "text": [
      "Enter 1st no. 10\n",
      "Enter 2nd no. 20\n",
      "Enter 3rd no. 30\n",
      "All statements are true\n"
     ]
    }
   ],
   "source": [
    "# Multiple conditions using “And”\n",
    "n1=float(input(\"Enter 1st no. \"))\n",
    "n2=float(input(\"Enter 2nd no. \"))\n",
    "n3=float(input(\"Enter 3rd no. \"))\n",
    "if n1==10 and n2==20 and n3==30:\n",
    "            print(\"All statements are true\")"
   ]
  },
  {
   "cell_type": "code",
   "execution_count": 26,
   "id": "a9e5150b",
   "metadata": {},
   "outputs": [
    {
     "name": "stdout",
     "output_type": "stream",
     "text": [
      "Enter fruit name: apple\n",
      "It's not a fruit\n"
     ]
    }
   ],
   "source": [
    "# Multiple conditions using “or”\n",
    "a=input(\"Enter fruit name: \")\n",
    "if a==\"Mango\" or a== \"Apple\" or a==\"Grapes\":\n",
    "    print(\"It's a fruit\")\n",
    "else:\n",
    "    print(\"It's not a fruit\")"
   ]
  },
  {
   "cell_type": "code",
   "execution_count": 29,
   "id": "8fc35345",
   "metadata": {},
   "outputs": [
    {
     "name": "stdout",
     "output_type": "stream",
     "text": [
      "1 9.0\n",
      "2 25.0\n",
      "3 20.666666666666668\n",
      "4 16.25\n",
      "5 27.8\n",
      "6 25.666666666666668\n",
      "The final average is 25.666666666666668\n"
     ]
    }
   ],
   "source": [
    "# Python program to find out the average of a set of integers\n",
    "sum=0\n",
    "c=0\n",
    "for nos in [9,41,12,3,74,15]:\n",
    "    sum= sum+nos\n",
    "    c=c+1\n",
    "    avg=sum/c\n",
    "    print(c,avg)\n",
    "print(\"The final average is\",avg)"
   ]
  },
  {
   "cell_type": "code",
   "execution_count": 28,
   "id": "3241b492",
   "metadata": {},
   "outputs": [
    {
     "name": "stdout",
     "output_type": "stream",
     "text": [
      "Apple\n",
      "Banana\n",
      "Grapes\n",
      "Pineapple\n",
      "Guava\n"
     ]
    }
   ],
   "source": [
    "# Make a list of 5 fruits. Print each fruit in a fruit list using ‘for’ loop\n",
    "fruit=[\"Apple\",\"Banana\",\"Grapes\",\"Pineapple\",\"Guava\"]\n",
    "for n in fruit:\n",
    "    print(n)"
   ]
  },
  {
   "cell_type": "code",
   "execution_count": null,
   "id": "aa97588f",
   "metadata": {},
   "outputs": [],
   "source": []
  }
 ],
 "metadata": {
  "kernelspec": {
   "display_name": "Python 3",
   "language": "python",
   "name": "python3"
  },
  "language_info": {
   "codemirror_mode": {
    "name": "ipython",
    "version": 3
   },
   "file_extension": ".py",
   "mimetype": "text/x-python",
   "name": "python",
   "nbconvert_exporter": "python",
   "pygments_lexer": "ipython3",
   "version": "3.8.8"
  }
 },
 "nbformat": 4,
 "nbformat_minor": 5
}
