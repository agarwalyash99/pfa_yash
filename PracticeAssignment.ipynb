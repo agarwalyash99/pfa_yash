{
 "cells": [
  {
   "cell_type": "code",
   "execution_count": 70,
   "id": "7056cb67",
   "metadata": {},
   "outputs": [
    {
     "name": "stdout",
     "output_type": "stream",
     "text": [
      "Input [12, 35, 9, 56, 24]\n",
      "Output [24, 35, 9, 56, 12]\n"
     ]
    }
   ],
   "source": [
    "a=list()\n",
    "a.append(12)\n",
    "a.append(35)\n",
    "a.append(9)\n",
    "a.append(56)\n",
    "a.append(24)\n",
    "print(\"Input\", a)\n",
    "a[0]=24\n",
    "a[-1]=12\n",
    "print(\"Output\", a)\n"
   ]
  },
  {
   "cell_type": "code",
   "execution_count": 65,
   "id": "08dbc261",
   "metadata": {},
   "outputs": [
    {
     "name": "stdout",
     "output_type": "stream",
     "text": [
      "Input  [1, 2, 3]\n",
      "Output  [3, 2, 1]\n"
     ]
    }
   ],
   "source": [
    "c=[]\n",
    "c.append(1)\n",
    "c.append(2)\n",
    "c.append(3)\n",
    "print(\"Input \", c)\n",
    "c[0]=3\n",
    "c[-1]=1\n",
    "print(\"Output \", c)"
   ]
  },
  {
   "cell_type": "code",
   "execution_count": 72,
   "id": "465dabf2",
   "metadata": {},
   "outputs": [
    {
     "name": "stdout",
     "output_type": "stream",
     "text": [
      "5\n"
     ]
    }
   ],
   "source": [
    "list=[1,4,5,7,8]\n",
    "print(len(list))"
   ]
  },
  {
   "cell_type": "code",
   "execution_count": 74,
   "id": "fe1ed38a",
   "metadata": {},
   "outputs": [
    {
     "name": "stdout",
     "output_type": "stream",
     "text": [
      "The length of list is 4\n"
     ]
    }
   ],
   "source": [
    "list=[]\n",
    "list.append(\"Geeks\")\n",
    "list.append(\"Are\")\n",
    "list.append(\"For\")\n",
    "list.append(\"Geeks\")\n",
    "b=len(list)\n",
    "print(\"The length of list is\",b)"
   ]
  },
  {
   "cell_type": "code",
   "execution_count": 78,
   "id": "3ed9dadf",
   "metadata": {},
   "outputs": [
    {
     "name": "stdout",
     "output_type": "stream",
     "text": [
      "4\n",
      "-1\n"
     ]
    }
   ],
   "source": [
    "a=[1,4]\n",
    "print(max(a))\n",
    "b=[-1,-4]\n",
    "print(max(b))"
   ]
  },
  {
   "cell_type": "code",
   "execution_count": null,
   "id": "4d1a79ad",
   "metadata": {},
   "outputs": [],
   "source": []
  }
 ],
 "metadata": {
  "kernelspec": {
   "display_name": "Python 3",
   "language": "python",
   "name": "python3"
  },
  "language_info": {
   "codemirror_mode": {
    "name": "ipython",
    "version": 3
   },
   "file_extension": ".py",
   "mimetype": "text/x-python",
   "name": "python",
   "nbconvert_exporter": "python",
   "pygments_lexer": "ipython3",
   "version": "3.8.8"
  }
 },
 "nbformat": 4,
 "nbformat_minor": 5
}
